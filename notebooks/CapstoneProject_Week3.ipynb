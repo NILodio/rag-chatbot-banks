{
 "cells": [
  {
   "cell_type": "markdown",
   "metadata": {},
   "source": [
    "## Extracting all PDF URLs (1 level deep) from a single URL passed as parameter"
   ]
  },
  {
   "cell_type": "code",
   "execution_count": 59,
   "metadata": {
    "tags": []
   },
   "outputs": [
    {
     "name": "stdout",
     "output_type": "stream",
     "text": [
      "1/184 (#PDFs until now: 638): https://www.cibc.com/content/dam/about_cibc/investor_relations/pdfs/quarterly_results/2014/q314disclosureexcel.xls\n",
      "2/184 (#PDFs until now: 638): https://www.cibc.com/en/privacy-security/cookie-policy.html\n",
      "3/184 (#PDFs until now: 638): https://www.cibc.com/content/dam/about_cibc/investor_relations/pdfs/quarterly_results/2015/sfi-january15.xls\n",
      "4/184 (#PDFs until now: 638): https://www.cibc.com/content/dam/about_cibc/investor_relations/pdfs/quarterly_results/2018/sfi-july18-en.xls\n",
      "5/184 (#PDFs until now: 638): https://www.cibc.com/content/dam/cibc-public-assets/about-cibc/investor-relations/pdfs/quarterly-results/2023/sfi-january23-en.xlsx\n",
      "6/184 (#PDFs until now: 638): https://www.cibc.com/content/dam/about_cibc/investor_relations/pdfs/quarterly_results/2018/q118disclosureexcel-en.xlsx\n",
      "7/184 (#PDFs until now: 638): https://www.cibc.com/en/business/cash-management.html\n",
      "8/184 (#PDFs until now: 639): https://www.cibc.com/en/about-cibc/careers/banking-centre-careers.html\n",
      "9/184 (#PDFs until now: 643): https://www.cibc.com/content/dam/cibc-public-assets/about-cibc/investor-relations/pdfs/quarterly-results/2022/sfi-april22-en.xlsx\n",
      "10/184 (#PDFs until now: 643): https://www.cibc.com/en/modals/about-cibc/webcast-call-details.html\n",
      "11/184 (#PDFs until now: 643): https://www.cibc.com/en/about-cibc/investor-relations/news-releases.html\n",
      "12/184 (#PDFs until now: 643): https://www.cibc.com/content/dam/about_cibc/investor_relations/pdfs/quarterly_results/2017/q217disclosureexcel-en.xlsx\n",
      "13/184 (#PDFs until now: 643): https://www.cibc.com/en/private-wealth/our-solutions.html\n",
      "14/184 (#PDFs until now: 643): https://www.cibc.com/en/about-cibc/careers/commercial-wealth-capital-markets-careers.html\n",
      "15/184 (#PDFs until now: 643): https://www.cibc.com/en/about-cibc/corporate-responsibility/community-and-sponsorship.html\n",
      "16/184 (#PDFs until now: 643): https://www.cibc.com/content/dam/about_cibc/investor_relations/pdfs/quarterly_results/2014/sfi-october14.xls\n",
      "17/184 (#PDFs until now: 643): https://www.cibc.com/content/dam/about_cibc/investor_relations/pdfs/quarterly_results/2014/q114disclosureexcel.xls\n"
     ]
    },
    {
     "ename": "KeyboardInterrupt",
     "evalue": "",
     "output_type": "error",
     "traceback": [
      "\u001b[1;31m---------------------------------------------------------------------------\u001b[0m",
      "\u001b[1;31mKeyboardInterrupt\u001b[0m                         Traceback (most recent call last)",
      "Cell \u001b[1;32mIn[59], line 69\u001b[0m\n\u001b[0;32m     65\u001b[0m     \u001b[38;5;28;01mreturn\u001b[39;00m pdf_urls\n\u001b[0;32m     68\u001b[0m url \u001b[38;5;241m=\u001b[39m \u001b[38;5;124m'\u001b[39m\u001b[38;5;124mhttps://www.cibc.com/en/about-cibc/investor-relations/quarterly-results.html\u001b[39m\u001b[38;5;124m'\u001b[39m\n\u001b[1;32m---> 69\u001b[0m extract_pdf_urls_from_url(url)\n",
      "Cell \u001b[1;32mIn[59], line 61\u001b[0m, in \u001b[0;36mextract_pdf_urls_from_url\u001b[1;34m(url, levels)\u001b[0m\n\u001b[0;32m     59\u001b[0m \u001b[38;5;28;01mfor\u001b[39;00m i, url \u001b[38;5;129;01min\u001b[39;00m \u001b[38;5;28menumerate\u001b[39m(other_urls):\n\u001b[0;32m     60\u001b[0m     \u001b[38;5;28mprint\u001b[39m(\u001b[38;5;124mf\u001b[39m\u001b[38;5;124m\"\u001b[39m\u001b[38;5;132;01m{\u001b[39;00mi\u001b[38;5;241m+\u001b[39m\u001b[38;5;241m1\u001b[39m\u001b[38;5;132;01m}\u001b[39;00m\u001b[38;5;124m/\u001b[39m\u001b[38;5;132;01m{\u001b[39;00m\u001b[38;5;28mlen\u001b[39m(other_urls)\u001b[38;5;132;01m}\u001b[39;00m\u001b[38;5;124m (#PDFs until now: \u001b[39m\u001b[38;5;132;01m{\u001b[39;00m\u001b[38;5;28mlen\u001b[39m(pdf_urls)\u001b[38;5;132;01m}\u001b[39;00m\u001b[38;5;124m): \u001b[39m\u001b[38;5;132;01m{\u001b[39;00murl\u001b[38;5;132;01m}\u001b[39;00m\u001b[38;5;124m\"\u001b[39m)\n\u001b[1;32m---> 61\u001b[0m     pdfs_inside_url \u001b[38;5;241m=\u001b[39m get_pdf_urls(url)\n\u001b[0;32m     62\u001b[0m     pdf_urls\u001b[38;5;241m.\u001b[39mupdate(pdfs_inside_url)\n\u001b[0;32m     64\u001b[0m \u001b[38;5;66;03m# Return the list of all PDF URLs\u001b[39;00m\n",
      "Cell \u001b[1;32mIn[59], line 20\u001b[0m, in \u001b[0;36mget_pdf_urls\u001b[1;34m(url)\u001b[0m\n\u001b[0;32m     17\u001b[0m     \u001b[38;5;28;01mreturn\u001b[39;00m \u001b[38;5;28mset\u001b[39m()\n\u001b[0;32m     19\u001b[0m \u001b[38;5;66;03m# Extract all a-tags from the website HTML\u001b[39;00m\n\u001b[1;32m---> 20\u001b[0m bs \u001b[38;5;241m=\u001b[39m BeautifulSoup(r\u001b[38;5;241m.\u001b[39mcontent)\n\u001b[0;32m     21\u001b[0m a_tags \u001b[38;5;241m=\u001b[39m  bs\u001b[38;5;241m.\u001b[39mfindAll(\u001b[38;5;124m'\u001b[39m\u001b[38;5;124ma\u001b[39m\u001b[38;5;124m'\u001b[39m)\n\u001b[0;32m     23\u001b[0m \u001b[38;5;66;03m# Loop through the a-tags saving all href attributes that end with .pdf\u001b[39;00m\n",
      "File \u001b[1;32m~\\anaconda3\\Lib\\site-packages\\bs4\\__init__.py:319\u001b[0m, in \u001b[0;36mBeautifulSoup.__init__\u001b[1;34m(self, markup, features, builder, parse_only, from_encoding, exclude_encodings, element_classes, **kwargs)\u001b[0m\n\u001b[0;32m    317\u001b[0m rejections \u001b[38;5;241m=\u001b[39m []\n\u001b[0;32m    318\u001b[0m success \u001b[38;5;241m=\u001b[39m \u001b[38;5;28;01mFalse\u001b[39;00m\n\u001b[1;32m--> 319\u001b[0m \u001b[38;5;28;01mfor\u001b[39;00m (\u001b[38;5;28mself\u001b[39m\u001b[38;5;241m.\u001b[39mmarkup, \u001b[38;5;28mself\u001b[39m\u001b[38;5;241m.\u001b[39moriginal_encoding, \u001b[38;5;28mself\u001b[39m\u001b[38;5;241m.\u001b[39mdeclared_html_encoding,\n\u001b[0;32m    320\u001b[0m  \u001b[38;5;28mself\u001b[39m\u001b[38;5;241m.\u001b[39mcontains_replacement_characters) \u001b[38;5;129;01min\u001b[39;00m (\n\u001b[0;32m    321\u001b[0m      \u001b[38;5;28mself\u001b[39m\u001b[38;5;241m.\u001b[39mbuilder\u001b[38;5;241m.\u001b[39mprepare_markup(\n\u001b[0;32m    322\u001b[0m          markup, from_encoding, exclude_encodings\u001b[38;5;241m=\u001b[39mexclude_encodings)):\n\u001b[0;32m    323\u001b[0m     \u001b[38;5;28mself\u001b[39m\u001b[38;5;241m.\u001b[39mreset()\n\u001b[0;32m    324\u001b[0m     \u001b[38;5;28;01mtry\u001b[39;00m:\n",
      "File \u001b[1;32m~\\anaconda3\\Lib\\site-packages\\bs4\\builder\\_lxml.py:186\u001b[0m, in \u001b[0;36mLXMLTreeBuilderForXML.prepare_markup\u001b[1;34m(self, markup, user_specified_encoding, exclude_encodings, document_declared_encoding)\u001b[0m\n\u001b[0;32m    183\u001b[0m try_encodings \u001b[38;5;241m=\u001b[39m [user_specified_encoding, document_declared_encoding]\n\u001b[0;32m    184\u001b[0m detector \u001b[38;5;241m=\u001b[39m EncodingDetector(\n\u001b[0;32m    185\u001b[0m     markup, try_encodings, is_html, exclude_encodings)\n\u001b[1;32m--> 186\u001b[0m \u001b[38;5;28;01mfor\u001b[39;00m encoding \u001b[38;5;129;01min\u001b[39;00m detector\u001b[38;5;241m.\u001b[39mencodings:\n\u001b[0;32m    187\u001b[0m     \u001b[38;5;28;01myield\u001b[39;00m (detector\u001b[38;5;241m.\u001b[39mmarkup, encoding, document_declared_encoding, \u001b[38;5;28;01mFalse\u001b[39;00m)\n",
      "File \u001b[1;32m~\\anaconda3\\Lib\\site-packages\\bs4\\dammit.py:309\u001b[0m, in \u001b[0;36mEncodingDetector.encodings\u001b[1;34m(self)\u001b[0m\n\u001b[0;32m    306\u001b[0m \u001b[38;5;66;03m# Use third-party character set detection to guess at the\u001b[39;00m\n\u001b[0;32m    307\u001b[0m \u001b[38;5;66;03m# encoding.\u001b[39;00m\n\u001b[0;32m    308\u001b[0m \u001b[38;5;28;01mif\u001b[39;00m \u001b[38;5;28mself\u001b[39m\u001b[38;5;241m.\u001b[39mchardet_encoding \u001b[38;5;129;01mis\u001b[39;00m \u001b[38;5;28;01mNone\u001b[39;00m:\n\u001b[1;32m--> 309\u001b[0m     \u001b[38;5;28mself\u001b[39m\u001b[38;5;241m.\u001b[39mchardet_encoding \u001b[38;5;241m=\u001b[39m chardet_dammit(\u001b[38;5;28mself\u001b[39m\u001b[38;5;241m.\u001b[39mmarkup)\n\u001b[0;32m    310\u001b[0m \u001b[38;5;28;01mif\u001b[39;00m \u001b[38;5;28mself\u001b[39m\u001b[38;5;241m.\u001b[39m_usable(\u001b[38;5;28mself\u001b[39m\u001b[38;5;241m.\u001b[39mchardet_encoding, tried):\n\u001b[0;32m    311\u001b[0m     \u001b[38;5;28;01myield\u001b[39;00m \u001b[38;5;28mself\u001b[39m\u001b[38;5;241m.\u001b[39mchardet_encoding\n",
      "File \u001b[1;32m~\\anaconda3\\Lib\\site-packages\\bs4\\dammit.py:37\u001b[0m, in \u001b[0;36mchardet_dammit\u001b[1;34m(s)\u001b[0m\n\u001b[0;32m     35\u001b[0m \u001b[38;5;28;01mif\u001b[39;00m \u001b[38;5;28misinstance\u001b[39m(s, \u001b[38;5;28mstr\u001b[39m):\n\u001b[0;32m     36\u001b[0m     \u001b[38;5;28;01mreturn\u001b[39;00m \u001b[38;5;28;01mNone\u001b[39;00m\n\u001b[1;32m---> 37\u001b[0m \u001b[38;5;28;01mreturn\u001b[39;00m chardet\u001b[38;5;241m.\u001b[39mdetect(s)[\u001b[38;5;124m'\u001b[39m\u001b[38;5;124mencoding\u001b[39m\u001b[38;5;124m'\u001b[39m]\n",
      "File \u001b[1;32m~\\anaconda3\\Lib\\site-packages\\chardet\\__init__.py:38\u001b[0m, in \u001b[0;36mdetect\u001b[1;34m(byte_str)\u001b[0m\n\u001b[0;32m     36\u001b[0m         byte_str \u001b[38;5;241m=\u001b[39m \u001b[38;5;28mbytearray\u001b[39m(byte_str)\n\u001b[0;32m     37\u001b[0m detector \u001b[38;5;241m=\u001b[39m UniversalDetector()\n\u001b[1;32m---> 38\u001b[0m detector\u001b[38;5;241m.\u001b[39mfeed(byte_str)\n\u001b[0;32m     39\u001b[0m \u001b[38;5;28;01mreturn\u001b[39;00m detector\u001b[38;5;241m.\u001b[39mclose()\n",
      "File \u001b[1;32m~\\anaconda3\\Lib\\site-packages\\chardet\\universaldetector.py:211\u001b[0m, in \u001b[0;36mUniversalDetector.feed\u001b[1;34m(self, byte_str)\u001b[0m\n\u001b[0;32m    209\u001b[0m     \u001b[38;5;28mself\u001b[39m\u001b[38;5;241m.\u001b[39m_charset_probers\u001b[38;5;241m.\u001b[39mappend(Latin1Prober())\n\u001b[0;32m    210\u001b[0m \u001b[38;5;28;01mfor\u001b[39;00m prober \u001b[38;5;129;01min\u001b[39;00m \u001b[38;5;28mself\u001b[39m\u001b[38;5;241m.\u001b[39m_charset_probers:\n\u001b[1;32m--> 211\u001b[0m     \u001b[38;5;28;01mif\u001b[39;00m prober\u001b[38;5;241m.\u001b[39mfeed(byte_str) \u001b[38;5;241m==\u001b[39m ProbingState\u001b[38;5;241m.\u001b[39mFOUND_IT:\n\u001b[0;32m    212\u001b[0m         \u001b[38;5;28mself\u001b[39m\u001b[38;5;241m.\u001b[39mresult \u001b[38;5;241m=\u001b[39m {\u001b[38;5;124m'\u001b[39m\u001b[38;5;124mencoding\u001b[39m\u001b[38;5;124m'\u001b[39m: prober\u001b[38;5;241m.\u001b[39mcharset_name,\n\u001b[0;32m    213\u001b[0m                        \u001b[38;5;124m'\u001b[39m\u001b[38;5;124mconfidence\u001b[39m\u001b[38;5;124m'\u001b[39m: prober\u001b[38;5;241m.\u001b[39mget_confidence(),\n\u001b[0;32m    214\u001b[0m                        \u001b[38;5;124m'\u001b[39m\u001b[38;5;124mlanguage\u001b[39m\u001b[38;5;124m'\u001b[39m: prober\u001b[38;5;241m.\u001b[39mlanguage}\n\u001b[0;32m    215\u001b[0m         \u001b[38;5;28mself\u001b[39m\u001b[38;5;241m.\u001b[39mdone \u001b[38;5;241m=\u001b[39m \u001b[38;5;28;01mTrue\u001b[39;00m\n",
      "File \u001b[1;32m~\\anaconda3\\Lib\\site-packages\\chardet\\charsetgroupprober.py:71\u001b[0m, in \u001b[0;36mCharSetGroupProber.feed\u001b[1;34m(self, byte_str)\u001b[0m\n\u001b[0;32m     69\u001b[0m \u001b[38;5;28;01mif\u001b[39;00m \u001b[38;5;129;01mnot\u001b[39;00m prober\u001b[38;5;241m.\u001b[39mactive:\n\u001b[0;32m     70\u001b[0m     \u001b[38;5;28;01mcontinue\u001b[39;00m\n\u001b[1;32m---> 71\u001b[0m state \u001b[38;5;241m=\u001b[39m prober\u001b[38;5;241m.\u001b[39mfeed(byte_str)\n\u001b[0;32m     72\u001b[0m \u001b[38;5;28;01mif\u001b[39;00m \u001b[38;5;129;01mnot\u001b[39;00m state:\n\u001b[0;32m     73\u001b[0m     \u001b[38;5;28;01mcontinue\u001b[39;00m\n",
      "File \u001b[1;32m~\\anaconda3\\Lib\\site-packages\\chardet\\sbcharsetprober.py:79\u001b[0m, in \u001b[0;36mSingleByteCharSetProber.feed\u001b[1;34m(self, byte_str)\u001b[0m\n\u001b[0;32m     77\u001b[0m \u001b[38;5;28;01mdef\u001b[39;00m \u001b[38;5;21mfeed\u001b[39m(\u001b[38;5;28mself\u001b[39m, byte_str):\n\u001b[0;32m     78\u001b[0m     \u001b[38;5;28;01mif\u001b[39;00m \u001b[38;5;129;01mnot\u001b[39;00m \u001b[38;5;28mself\u001b[39m\u001b[38;5;241m.\u001b[39m_model[\u001b[38;5;124m'\u001b[39m\u001b[38;5;124mkeep_english_letter\u001b[39m\u001b[38;5;124m'\u001b[39m]:\n\u001b[1;32m---> 79\u001b[0m         byte_str \u001b[38;5;241m=\u001b[39m \u001b[38;5;28mself\u001b[39m\u001b[38;5;241m.\u001b[39mfilter_international_words(byte_str)\n\u001b[0;32m     80\u001b[0m     \u001b[38;5;28;01mif\u001b[39;00m \u001b[38;5;129;01mnot\u001b[39;00m byte_str:\n\u001b[0;32m     81\u001b[0m         \u001b[38;5;28;01mreturn\u001b[39;00m \u001b[38;5;28mself\u001b[39m\u001b[38;5;241m.\u001b[39mstate\n",
      "File \u001b[1;32m~\\anaconda3\\Lib\\site-packages\\chardet\\charsetprober.py:90\u001b[0m, in \u001b[0;36mCharSetProber.filter_international_words\u001b[1;34m(buf)\u001b[0m\n\u001b[0;32m     86\u001b[0m words \u001b[38;5;241m=\u001b[39m re\u001b[38;5;241m.\u001b[39mfindall(\u001b[38;5;124mb\u001b[39m\u001b[38;5;124m'\u001b[39m\u001b[38;5;124m[a-zA-Z]*[\u001b[39m\u001b[38;5;130;01m\\x80\u001b[39;00m\u001b[38;5;124m-\u001b[39m\u001b[38;5;130;01m\\xFF\u001b[39;00m\u001b[38;5;124m]+[a-zA-Z]*[^a-zA-Z\u001b[39m\u001b[38;5;130;01m\\x80\u001b[39;00m\u001b[38;5;124m-\u001b[39m\u001b[38;5;130;01m\\xFF\u001b[39;00m\u001b[38;5;124m]?\u001b[39m\u001b[38;5;124m'\u001b[39m,\n\u001b[0;32m     87\u001b[0m                    buf)\n\u001b[0;32m     89\u001b[0m \u001b[38;5;28;01mfor\u001b[39;00m word \u001b[38;5;129;01min\u001b[39;00m words:\n\u001b[1;32m---> 90\u001b[0m     filtered\u001b[38;5;241m.\u001b[39mextend(word[:\u001b[38;5;241m-\u001b[39m\u001b[38;5;241m1\u001b[39m])\n\u001b[0;32m     92\u001b[0m     \u001b[38;5;66;03m# If the last character in the word is a marker, replace it with a\u001b[39;00m\n\u001b[0;32m     93\u001b[0m     \u001b[38;5;66;03m# space as markers shouldn't affect our analysis (they are used\u001b[39;00m\n\u001b[0;32m     94\u001b[0m     \u001b[38;5;66;03m# similarly across all languages and may thus have similar\u001b[39;00m\n\u001b[0;32m     95\u001b[0m     \u001b[38;5;66;03m# frequencies).\u001b[39;00m\n\u001b[0;32m     96\u001b[0m     last_char \u001b[38;5;241m=\u001b[39m word[\u001b[38;5;241m-\u001b[39m\u001b[38;5;241m1\u001b[39m:]\n",
      "\u001b[1;31mKeyboardInterrupt\u001b[0m: "
     ]
    }
   ],
   "source": [
    "from bs4 import BeautifulSoup\n",
    "import requests\n",
    "import re\n",
    "\n",
    "def get_base_url(url):\n",
    "    # Extract the base url: protocol, subdomain, and domain\n",
    "    base_re = r'^.+?[^\\/:](?=[?\\/]|$)'\n",
    "    return re.findall(base_re, url)[0]\n",
    "\n",
    "def get_pdf_urls(url):\n",
    "    # Extract the base url: protocol, subdomain, and domain\n",
    "    base_url = get_base_url(url)\n",
    "    \n",
    "    # Stop processing if the request wasn't successful\n",
    "    r = requests.get(url)\n",
    "    if r.status_code != 200:\n",
    "        return set()\n",
    "    \n",
    "    # Extract all a-tags from the website HTML\n",
    "    bs = BeautifulSoup(r.content)\n",
    "    a_tags =  bs.findAll('a')\n",
    "    \n",
    "    # Loop through the a-tags saving all href attributes that end with .pdf\n",
    "    hrefs = []\n",
    "    for tag in a_tags:\n",
    "        if 'href' in tag.attrs.keys() and tag.attrs['href'].endswith('.pdf'):\n",
    "            hrefs.append(tag.attrs['href'])\n",
    "    \n",
    "    # Convert all hrefs to URLs by adding the base URL if required\n",
    "    pdf_links = [href if href.startswith('http') else base_url + href for href in hrefs]\n",
    "    return set(pdf_links)\n",
    "\n",
    "def get_urls(url):\n",
    "    # Extract the base url: protocol, subdomain, and domain\n",
    "    base_url = get_base_url(url)\n",
    "    \n",
    "    # Stop processing if the request wasn't successful\n",
    "    r = requests.get(url)\n",
    "    if r.status_code != 200:\n",
    "        return\n",
    "    \n",
    "    # Extract all a-tags from the website HTML\n",
    "    bs = BeautifulSoup(r.content)\n",
    "    a_tags =  bs.findAll('a')\n",
    "    \n",
    "    # Extract content of href attribute from the a-tags and convert them into proper URLs using the base url\n",
    "    hrefs = {tag.attrs['href'] for tag in a_tags if 'href' in tag.attrs.keys()}\n",
    "    hrefs = {href if href.startswith('http') else base_url + href for href in hrefs}\n",
    "    \n",
    "    # Return only URLs that don't end with .pdf and that start with the base URL\n",
    "    return {href for href in hrefs if href.startswith(base_url) and not href.endswith('.pdf')}\n",
    "\n",
    "def extract_pdf_urls_from_url(url, levels = 1):\n",
    "    # Get all pdf URLs and other URLs\n",
    "    pdf_urls = get_pdf_urls(url)\n",
    "    other_urls = get_urls(url)\n",
    "    \n",
    "    # Loop through the other URLs extracting PDF URLs from each one of them\n",
    "    for i, url in enumerate(other_urls):\n",
    "        print(f\"{i+1}/{len(other_urls)} (#PDFs until now: {len(pdf_urls)}): {url}\")\n",
    "        pdfs_inside_url = get_pdf_urls(url)\n",
    "        pdf_urls.update(pdfs_inside_url)\n",
    "    \n",
    "    # Return the list of all PDF URLs\n",
    "    return pdf_urls\n",
    "\n",
    "\n",
    "url = 'https://www.cibc.com/en/about-cibc/investor-relations/quarterly-results.html'\n",
    "extract_pdf_urls_from_url(url)\n"
   ]
  }
 ],
 "metadata": {
  "kernelspec": {
   "display_name": "Python 3 (ipykernel)",
   "language": "python",
   "name": "python3"
  },
  "language_info": {
   "codemirror_mode": {
    "name": "ipython",
    "version": 3
   },
   "file_extension": ".py",
   "mimetype": "text/x-python",
   "name": "python",
   "nbconvert_exporter": "python",
   "pygments_lexer": "ipython3",
   "version": "3.11.5"
  }
 },
 "nbformat": 4,
 "nbformat_minor": 4
}
